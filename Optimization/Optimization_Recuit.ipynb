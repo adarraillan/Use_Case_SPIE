{
 "cells": [
  {
   "attachments": {},
   "cell_type": "markdown",
   "metadata": {},
   "source": [
    "<h1> Optimization electricity consumption </h1>"
   ]
  },
  {
   "attachments": {},
   "cell_type": "markdown",
   "metadata": {},
   "source": [
    "<h3> Imports </h3>"
   ]
  },
  {
   "cell_type": "code",
   "execution_count": 1,
   "metadata": {},
   "outputs": [],
   "source": [
    "import math\n",
    "import random\n",
    "import copy\n",
    "import numpy as np\n",
    "import joblib\n",
    "import time\n",
    "import multiprocessing\n",
    "import matplotlib.pyplot as plt\n",
    "from IPython.display import display, clear_output\n",
    "\n",
    "%run preprocess_functions.py\n",
    "%run Individual.py"
   ]
  },
  {
   "attachments": {},
   "cell_type": "markdown",
   "metadata": {},
   "source": [
    "<h3> Helper functions </h3>"
   ]
  },
  {
   "cell_type": "code",
   "execution_count": 2,
   "metadata": {},
   "outputs": [],
   "source": [
    "def calc_consumption_from_planing(plan,mat,day_consumption):\n",
    "    for house in plan:\n",
    "        for machine in house.keys():\n",
    "            for time_slot in house[machine]:\n",
    "                day_consumption[time_slot] += mat[machine][\"power\"]\n",
    "    return day_consumption"
   ]
  },
  {
   "attachments": {},
   "cell_type": "markdown",
   "metadata": {},
   "source": [
    "<h3> Recuit functions </h3>"
   ]
  },
  {
   "cell_type": "code",
   "execution_count": 3,
   "metadata": {},
   "outputs": [],
   "source": [
    "#Not Perfect\n",
    "def initial_solution(empty_plannings,mat):\n",
    "\n",
    "    for house in range(len(empty_plannings)):\n",
    "        for machine in empty_plannings[house].keys():\n",
    "            if type(mat[machine][\"nb_time_slot\"]) == list:\n",
    "                nb_time_slots = random.sample(mat[machine][\"nb_time_slot\"],1)[0]\n",
    "            else:\n",
    "                nb_time_slots = mat[machine][\"nb_time_slot\"]\n",
    "            \n",
    "            if machine in ['LL','SL','LV']:\n",
    "                start_index = random.randint(16,47)\n",
    "                for i in range(nb_time_slots):\n",
    "                    empty_plannings[house][machine].append((start_index+i)%48)\n",
    "            elif machine in ['TV','PL','FO']:\n",
    "                hours_dict = {\"TV\":[38,47],\"PL\":[36,40],\"FO\":[36,40]}\n",
    "                start_h,end_h = hours_dict[machine]\n",
    "                empty_plannings[house][machine] = random.sample(range(start_h, end_h), nb_time_slots)\n",
    "            else:\n",
    "                if mat[machine][\"is_sequencable\"]:\n",
    "                    for i in range(nb_time_slots):\n",
    "                        index = random.randint(0,15)\n",
    "                        while index in empty_plannings[house][machine]:\n",
    "                            index = random.randint(0,15)\n",
    "                else:\n",
    "                    start_index = random.randint(0,15-nb_time_slots)\n",
    "                    for i in range(nb_time_slots):\n",
    "                        empty_plannings[house][machine].append(start_index+i)\n",
    "                \n",
    "\n",
    "    day_consumption = []\n",
    "    for i in range(48):\n",
    "        day_consumption.append(int(0))\n",
    "\n",
    "    day_consumption = calc_consumption_from_planing(empty_plannings,mat,day_consumption)\n",
    "\n",
    "    individual = Individual({\"start\":0,\"end\":15},empty_plannings,day_consumption)\n",
    "    \n",
    "\n",
    "    return individual"
   ]
  },
  {
   "cell_type": "code",
   "execution_count": 4,
   "metadata": {},
   "outputs": [],
   "source": [
    "def get_neighbour_solution(solution: Individual):\n",
    "    solution_neigh = copy.deepcopy(solution)\n",
    "    solution_neigh.mutate()\n",
    "\n",
    "    return solution_neigh\n",
    "\n",
    "def cost_function(solution : Individual):\n",
    "    return solution.getMax()\n",
    "\n",
    "def metropolis(neighbour_solution, current_solution,temperature):\n",
    "    return math.exp( -( abs( cost_function(current_solution) - cost_function(neighbour_solution) ) / temperature ) )\n",
    "\n",
    "def update_temperature(temperature):\n",
    "    return temperature * 0.99"
   ]
  },
  {
   "cell_type": "code",
   "execution_count": 5,
   "metadata": {},
   "outputs": [],
   "source": [
    "#TMP\n",
    "def plot_planning(planning,title):\n",
    "    m_count = 0\n",
    "    fig = plt.figure()\n",
    "    ax = fig.add_subplot(1,1,1)\n",
    "    for machine in planning.keys():\n",
    "        m_count += 1\n",
    "        x = []\n",
    "        y = []\n",
    "        for time in planning[machine]:\n",
    "            x.append(time)\n",
    "            y.append(machine)\n",
    "        \n",
    "        ax.scatter(x,y)\n",
    "    display(fig)\n",
    "    clear_output(wait=True)\n",
    "    plt.pause(0.1)"
   ]
  },
  {
   "cell_type": "code",
   "execution_count": 6,
   "metadata": {},
   "outputs": [],
   "source": [
    "def recuit_simule(temperature,current_solution):\n",
    "    best_current_solution = copy.deepcopy(current_solution)\n",
    "    print_count = 0\n",
    "    count_iteration_without_improvment = 0\n",
    "\n",
    "    start_t = time.time()\n",
    "    while count_iteration_without_improvment < 1000:\n",
    "        # print_count += 1\n",
    "        # if print_count%100 == 0:\n",
    "        #     print(\"\\r\",end=\"\")\n",
    "        #     print(\"**Recuit\",print_count,count_iteration_without_improvment,\"| Time :\",time.time()-start_t,end=\"                \")\n",
    "        #     # plot_planning(best_current_solution.plannings[0],\"Testos\")\n",
    "        #     start_t = time.time()\n",
    "\n",
    "        neighbour_solution = get_neighbour_solution(current_solution)\n",
    "\n",
    "        if cost_function(neighbour_solution) < cost_function(current_solution) or random.random() < metropolis( neighbour_solution , current_solution , temperature):\n",
    "            current_solution = neighbour_solution\n",
    "\n",
    "        if cost_function(current_solution) < cost_function(best_current_solution):\n",
    "            best_current_solution = copy.deepcopy(current_solution)\n",
    "            count_iteration_without_improvment = 0\n",
    "        else:\n",
    "            count_iteration_without_improvment += 1\n",
    "\n",
    "        temperature = update_temperature(temperature)\n",
    "\n",
    "    \n",
    "    return best_current_solution"
   ]
  },
  {
   "attachments": {},
   "cell_type": "markdown",
   "metadata": {},
   "source": [
    "<h3> Variables </h3>"
   ]
  },
  {
   "cell_type": "code",
   "execution_count": 7,
   "metadata": {},
   "outputs": [],
   "source": [
    "matrice_type_puissance_par_demie_heure = {'LV':{\"power\":float(0.65),\"nb_time_slot\":2,\"is_sequencable\":False}, \n",
    "                                            'LL':{\"power\":float(1),\"nb_time_slot\":2,\"is_sequencable\":False}, \n",
    "                                            'SL':{\"power\":float(0.125),\"nb_time_slot\":8,\"is_sequencable\":False}, \n",
    "                                            'TV':{\"power\":float(0.05),\"nb_time_slot\":[1,2,3,4,5],\"is_sequencable\":False}, \n",
    "                                            'FG_1':{\"power\":float(0.1),\"nb_time_slot\":4,\"is_sequencable\":False}, \n",
    "                                            'CE_1':{\"power\":float(0.18),\"nb_time_slot\":12,\"is_sequencable\":False}, \n",
    "                                            'CG':{\"power\":float(0.1),\"nb_time_slot\":4,\"is_sequencable\":False}, \n",
    "                                            'FO':{\"power\":float(0.8),\"nb_time_slot\":[1,2],\"is_sequencable\":False}, \n",
    "                                            'PL':{\"power\":float(0.6),\"nb_time_slot\":[1,2],\"is_sequencable\":False}, \n",
    "                                            'FG_2':{\"power\":float(0.3),\"nb_time_slot\":4,\"is_sequencable\":False}, \n",
    "                                            'CE_2':{\"power\":float(0.25),\"nb_time_slot\":12,\"is_sequencable\":False}\n",
    "                                            }"
   ]
  },
  {
   "attachments": {},
   "cell_type": "markdown",
   "metadata": {},
   "source": [
    "<h3> Main </h3>"
   ]
  },
  {
   "cell_type": "code",
   "execution_count": 8,
   "metadata": {},
   "outputs": [],
   "source": [
    "data = load_csv(\"data/data.csv\")\n",
    "batch_empty_plannings = make_batches(\"data/data.csv\",\"data/data_network.csv\")"
   ]
  },
  {
   "cell_type": "code",
   "execution_count": 9,
   "metadata": {},
   "outputs": [],
   "source": [
    "# solutions = []\n",
    "# nb_batches = len(batch_empty_plannings)\n",
    "# count_batches = 0\n",
    "# for key in list(batch_empty_plannings.keys())[:3]:\n",
    "#     batch = batch_empty_plannings[key]\n",
    "\n",
    "#     print(\"Init Solution\")\n",
    "#     current_solution = initial_solution(batch,matrice_type_puissance_par_demie_heure)\n",
    "#     print(\"Score init :\",current_solution.getMax(),\"| Batch size :\",len(batch),\" | Batch number :\",str(count_batches)+\"/\"+str(nb_batches))\n",
    "\n",
    "#     best_found_solution = recuit_simule(1000, current_solution)\n",
    "#     curr_best = cost_function(best_found_solution)\n",
    "\n",
    "#     # print(best_found_solution.day_consumption)\n",
    "#     print(\"Score optimized\",cost_function(best_found_solution))\n",
    "#     solutions.append(best_found_solution)\n",
    "#     count_batches += 1\n",
    "\n",
    "\n"
   ]
  },
  {
   "cell_type": "code",
   "execution_count": 10,
   "metadata": {},
   "outputs": [],
   "source": [
    "# joblib.dump(best_found_solution.plannings,\"out/Plannings.joblib\")\n",
    "# joblib.dump(best_found_solution.day_consumption,\"out/Day_Consumption.joblib\")\n",
    "# joblib.dump(best_found_solution,\"out/Solution.joblib\")\n",
    "# joblib.dump(solutions,\"out/Solutions.joblib\")"
   ]
  },
  {
   "cell_type": "code",
   "execution_count": 11,
   "metadata": {},
   "outputs": [
    {
     "name": "stdout",
     "output_type": "stream",
     "text": [
      "Init Solution, process : Init Solution, process :0 1\n",
      "\n",
      "Init Solution, process : Init Solution, process :2Init Solution, process :Init Solution, process :Init Solution, process : \n",
      "  534 Init Solution, process :\n",
      "\n",
      "\n",
      " 6\n",
      "7Init Solution, process :\n",
      "Init Solution, process :  98\n",
      "\n",
      "Score init/optimized 127.74999999999957 120.475 , process : 6\n",
      "Process Done : 6\n",
      "Score init/optimized 122.94999999999959 114.55 , process : 4\n",
      "Process Done : 4\n",
      "Score init/optimized 133.74999999999972 118.45 , process : 3\n",
      "Process Done : 3\n",
      "Score init/optimized 126.74999999999963 112.575 , process : 9\n",
      "Process Done : 9\n",
      "Score init/optimized 127.82499999999963 108.1 , process : 2\n",
      "Process Done : 2\n",
      "Score init/optimized 138.72499999999977 110.725 , process : 5\n",
      "Process Done : 5\n",
      "Score init/optimized 127.62499999999959 106.925 , process : 7\n",
      "Process Done : 7\n",
      "Score init/optimized 132.67499999999964 108.7 , process : 1\n",
      "Process Done : 1\n",
      "Score init/optimized 139.2249999999997 112.5 , process : 0\n",
      "Process Done : 0\n",
      "Score init/optimized 134.5999999999997 109.55 , process : 8\n",
      "Process Done : 8\n",
      "10\n"
     ]
    }
   ],
   "source": [
    "def worker(procnum,batch,key,return_dict):\n",
    "    print(\"Init Solution, process :\", procnum)\n",
    "    init_solution = initial_solution(batch,matrice_type_puissance_par_demie_heure)\n",
    "    # print(\"Score init\",cost_function(init_solution),\", process :\", procnum)\n",
    "    score_init = cost_function(init_solution)\n",
    "\n",
    "    best_found_solution = recuit_simule(1000, init_solution)\n",
    "    curr_best = cost_function(best_found_solution)\n",
    "\n",
    "    # print(best_found_solution.day_consumption)\n",
    "    print(\"Score init/optimized\",score_init,cost_function(best_found_solution),\", process :\", procnum)\n",
    "    return_dict[key] = [best_found_solution,init_solution]\n",
    "    print(\"Process Done :\",procnum)\n",
    "\n",
    "\n",
    "manager = multiprocessing.Manager()\n",
    "return_dict = manager.dict()\n",
    "jobs = []\n",
    "\n",
    "nb_batches = len(batch_empty_plannings)\n",
    "count_batches = 0\n",
    "for key in list(batch_empty_plannings.keys())[:10]:\n",
    "    batch = batch_empty_plannings[key]\n",
    "    p = multiprocessing.Process(target=worker, args=(count_batches,batch,key,return_dict))\n",
    "    jobs.append(p)\n",
    "    p.start()\n",
    "    count_batches += 1\n",
    "    \n",
    "\n",
    "for proc in jobs:\n",
    "    proc.join()\n",
    "\n",
    "solutions = return_dict.values()\n",
    "print(len(solutions))"
   ]
  },
  {
   "cell_type": "code",
   "execution_count": 12,
   "metadata": {},
   "outputs": [
    {
     "data": {
      "text/plain": [
       "['out/Solution_f10.joblib']"
      ]
     },
     "execution_count": 12,
     "metadata": {},
     "output_type": "execute_result"
    }
   ],
   "source": [
    "joblib.dump(solutions,\"out/Solution_f10.joblib\")"
   ]
  }
 ],
 "metadata": {
  "kernelspec": {
   "display_name": "Python 3",
   "language": "python",
   "name": "python3"
  },
  "language_info": {
   "codemirror_mode": {
    "name": "ipython",
    "version": 3
   },
   "file_extension": ".py",
   "mimetype": "text/x-python",
   "name": "python",
   "nbconvert_exporter": "python",
   "pygments_lexer": "ipython3",
   "version": "3.8.10"
  },
  "orig_nbformat": 4,
  "vscode": {
   "interpreter": {
    "hash": "31f2aee4e71d21fbe5cf8b01ff0e069b9275f58929596ceb00d14d90e3e16cd6"
   }
  }
 },
 "nbformat": 4,
 "nbformat_minor": 2
}
