{
 "cells": [
  {
   "attachments": {},
   "cell_type": "markdown",
   "metadata": {},
   "source": [
    "<h1> Optimization electricity consumption </h1>"
   ]
  },
  {
   "attachments": {},
   "cell_type": "markdown",
   "metadata": {},
   "source": [
    "<h3> Imports </h3>"
   ]
  },
  {
   "cell_type": "code",
   "execution_count": 3,
   "metadata": {},
   "outputs": [],
   "source": [
    "import math\n",
    "import random\n",
    "import copy\n",
    "import numpy as np\n",
    "import joblib\n",
    "\n",
    "from preprocess_functions import *\n",
    "from Individual import Individual"
   ]
  },
  {
   "attachments": {},
   "cell_type": "markdown",
   "metadata": {},
   "source": [
    "<h3> Helper functions </h3>"
   ]
  },
  {
   "cell_type": "code",
   "execution_count": 4,
   "metadata": {},
   "outputs": [],
   "source": [
    "def calc_consumption_from_planing(plan,mat,day_consumption):\n",
    "    for house in plan:\n",
    "        for machine in house.keys():\n",
    "            for time_slot in house[machine]:\n",
    "                day_consumption[time_slot] += mat[machine][\"power\"]\n",
    "    return day_consumption"
   ]
  },
  {
   "attachments": {},
   "cell_type": "markdown",
   "metadata": {},
   "source": [
    "<h3> Recuit functions </h3>"
   ]
  },
  {
   "cell_type": "code",
   "execution_count": 5,
   "metadata": {},
   "outputs": [],
   "source": [
    "#Not Perfect\n",
    "def initial_solution(empty_plannings,mat):\n",
    "\n",
    "    for house in range(len(empty_plannings)):\n",
    "        for machine in empty_plannings[house].keys():\n",
    "            if type(mat[machine][\"nb_time_slot\"]) == list:\n",
    "                mat[machine][\"nb_time_slot\"] = random.sample(mat[machine][\"nb_time_slot\"],1)[0]\n",
    "            \n",
    "            if machine in ['LL','SL','LV']:\n",
    "                start_index = random.randint(0,47)\n",
    "                for i in range(mat[machine][\"nb_time_slot\"]):\n",
    "                    empty_plannings[house][machine].append((start_index+i)%48)\n",
    "            else:\n",
    "                if mat[machine][\"is_sequencable\"]:\n",
    "                    for i in range(mat[machine][\"nb_time_slot\"]):\n",
    "                        index = random.randint(0,15)\n",
    "                        while index in empty_plannings[house][machine]:\n",
    "                            index = random.randint(0,15)\n",
    "                else:\n",
    "                    start_index = random.randint(0,15-mat[machine][\"nb_time_slot\"])\n",
    "                    for i in range(mat[machine][\"nb_time_slot\"]):\n",
    "                        empty_plannings[house][machine].append(start_index+i)\n",
    "                \n",
    "\n",
    "    day_consumption = []\n",
    "    for i in range(48):\n",
    "        day_consumption.append(0)\n",
    "\n",
    "    day_consumption = calc_consumption_from_planing(empty_plannings,mat,day_consumption)\n",
    "\n",
    "    individual = Individual({\"start\":0,\"end\":15},empty_plannings,day_consumption)\n",
    "    \n",
    "\n",
    "    return individual"
   ]
  },
  {
   "cell_type": "code",
   "execution_count": 6,
   "metadata": {},
   "outputs": [],
   "source": [
    "def get_neighbour_solution(solution: Individual):\n",
    "    solution_neigh = copy.deepcopy(solution)\n",
    "    solution_neigh.mutate()\n",
    "\n",
    "    return solution_neigh\n",
    "\n",
    "def cost_function(solution : Individual):\n",
    "    return solution.getMax()\n",
    "\n",
    "def metropolis(neighbour_solution, current_solution,temperature):\n",
    "    return math.exp( -( abs( cost_function(current_solution) - cost_function(neighbour_solution) ) / temperature ) )\n",
    "\n",
    "def update_temperature(temperature):\n",
    "    return temperature * 0.99"
   ]
  },
  {
   "cell_type": "code",
   "execution_count": 7,
   "metadata": {},
   "outputs": [],
   "source": [
    "def recuit_simule(temperature,current_solution):\n",
    "    best_current_solution = copy.deepcopy(current_solution)\n",
    "    print_count = 0\n",
    "    count_iteration_without_improvment = 0\n",
    "\n",
    "    while count_iteration_without_improvment < 1000:\n",
    "        print_count += 1\n",
    "        if print_count%10 == 0:\n",
    "            print(\"\\r\",end=\"\")\n",
    "            print(\"**Recuit\",print_count,count_iteration_without_improvment,end=\"                \")\n",
    "\n",
    "        neighbour_solution = get_neighbour_solution(current_solution)\n",
    "\n",
    "        if cost_function(neighbour_solution) < cost_function(current_solution) or random.random() < metropolis( neighbour_solution , current_solution , temperature):\n",
    "            current_solution = neighbour_solution\n",
    "\n",
    "        if cost_function(current_solution) < cost_function(best_current_solution):\n",
    "            best_current_solution = copy.deepcopy(current_solution)\n",
    "            count_iteration_without_improvment = 0\n",
    "        else:\n",
    "            count_iteration_without_improvment += 1\n",
    "\n",
    "        temperature = update_temperature(temperature)\n",
    "    \n",
    "    return best_current_solution"
   ]
  },
  {
   "attachments": {},
   "cell_type": "markdown",
   "metadata": {},
   "source": [
    "<h3> Variables </h3>"
   ]
  },
  {
   "cell_type": "code",
   "execution_count": 8,
   "metadata": {},
   "outputs": [],
   "source": [
    "matrice_type_puissance_par_demie_heure = {'LV':{\"power\":float(0.65),\"nb_time_slot\":2,\"is_sequencable\":False}, \n",
    "                                            'LL':{\"power\":float(1),\"nb_time_slot\":2,\"is_sequencable\":False}, \n",
    "                                            'SL':{\"power\":float(0.125),\"nb_time_slot\":8,\"is_sequencable\":False}, \n",
    "                                            'TV':{\"power\":float(0.05),\"nb_time_slot\":[1,2,3,4,5],\"is_sequencable\":False}, \n",
    "                                            'FG_1':{\"power\":float(0.1),\"nb_time_slot\":4,\"is_sequencable\":False}, \n",
    "                                            'CE_1':{\"power\":float(0.18),\"nb_time_slot\":12,\"is_sequencable\":False}, \n",
    "                                            'CG':{\"power\":float(0.1),\"nb_time_slot\":4,\"is_sequencable\":False}, \n",
    "                                            'FO':{\"power\":float(0.8),\"nb_time_slot\":[1,2],\"is_sequencable\":False}, \n",
    "                                            'PL':{\"power\":float(0.6),\"nb_time_slot\":[1,2],\"is_sequencable\":False}, \n",
    "                                            'FG_2':{\"power\":float(0.3),\"nb_time_slot\":4,\"is_sequencable\":False}, \n",
    "                                            'CE_2':{\"power\":float(0.25),\"nb_time_slot\":12,\"is_sequencable\":False}\n",
    "                                            }"
   ]
  },
  {
   "attachments": {},
   "cell_type": "markdown",
   "metadata": {},
   "source": [
    "<h3> Main </h3>"
   ]
  },
  {
   "cell_type": "code",
   "execution_count": 9,
   "metadata": {},
   "outputs": [
    {
     "name": "stdout",
     "output_type": "stream",
     "text": [
      "['Logement', 'LV', 'LL', 'SL', 'TV', 'FG_1', 'CE_1', 'CG', 'FO', 'PL', 'FG_2', 'CE_2']\n"
     ]
    }
   ],
   "source": [
    "data = load_csv(\"data.csv\")\n",
    "empty_planning = np.array(generate_empty_planning(data))\n",
    "empty_planning = empty_planning[:100]"
   ]
  },
  {
   "cell_type": "code",
   "execution_count": 10,
   "metadata": {},
   "outputs": [
    {
     "name": "stdout",
     "output_type": "stream",
     "text": [
      "Init Solution\n",
      "Score init 93.92499999999994\n",
      "First iter\n",
      "**Recuit 27100 994                Enter While\n",
      "iter n° : 0\n",
      "**Recuit 1000 999                iter n° : 1\n",
      "**Recuit 1000 999                iter n° : 2\n",
      "**Recuit 1000 999                [69.55, 69.59, 69.45, 69.44, 69.58, 69.52, 69.62, 69.6, 69.59, 69.62, 69.59, 69.53, 69.61, 69.55, 69.38, 59.45, 9.26, 10.5, 10.44, 11.9, 16.98, 13.9, 10.39, 12.96, 11.91, 9.06, 8.31, 8.83, 10.24, 8.03, 5.27, 9.02, 9.53, 9.41, 8.95, 4.23, 6.6, 7.61, 9.66, 15.68, 14.65, 12.84, 14.09, 16.14, 18.5, 15.74, 7.3, 0.38]\n",
      "69.62\n"
     ]
    }
   ],
   "source": [
    "print(\"Init Solution\")\n",
    "current_solution = initial_solution(empty_planning,matrice_type_puissance_par_demie_heure)\n",
    "print(\"Score init\",current_solution.getMax())\n",
    "\n",
    "print(\"First iter\")\n",
    "best_found_solution = recuit_simule(1000, current_solution)\n",
    "\n",
    "curr_best = cost_function(best_found_solution)\n",
    "\n",
    "print(\"Enter While\")\n",
    "n=0\n",
    "while  n < 3:\n",
    "    if cost_function(best_found_solution) < curr_best:\n",
    "        curr_best = cost_function(best_found_solution)\n",
    "        print(best_found_solution.day_consumption)\n",
    "        print(cost_function(best_found_solution))\n",
    "    \n",
    "\n",
    "    if n%1 == 0:\n",
    "        print(\"iter n° :\",n)\n",
    "    \n",
    "    n+=1\n",
    "    best_found_solution = recuit_simule(1000,best_found_solution)\n",
    "\n",
    "print(best_found_solution.day_consumption)\n",
    "print(cost_function(best_found_solution))"
   ]
  },
  {
   "cell_type": "code",
   "execution_count": 11,
   "metadata": {},
   "outputs": [
    {
     "data": {
      "text/plain": [
       "['Solution.joblib']"
      ]
     },
     "execution_count": 11,
     "metadata": {},
     "output_type": "execute_result"
    }
   ],
   "source": [
    "joblib.dump(best_found_solution.plannings,\"Plannings.joblib\")\n",
    "joblib.dump(best_found_solution.day_consumption,\"Day_Consumption.joblib\")\n",
    "joblib.dump(best_found_solution,\"Solution.joblib\")"
   ]
  }
 ],
 "metadata": {
  "kernelspec": {
   "display_name": "Python 3",
   "language": "python",
   "name": "python3"
  },
  "language_info": {
   "codemirror_mode": {
    "name": "ipython",
    "version": 3
   },
   "file_extension": ".py",
   "mimetype": "text/x-python",
   "name": "python",
   "nbconvert_exporter": "python",
   "pygments_lexer": "ipython3",
   "version": "3.8.10"
  },
  "orig_nbformat": 4,
  "vscode": {
   "interpreter": {
    "hash": "31f2aee4e71d21fbe5cf8b01ff0e069b9275f58929596ceb00d14d90e3e16cd6"
   }
  }
 },
 "nbformat": 4,
 "nbformat_minor": 2
}
