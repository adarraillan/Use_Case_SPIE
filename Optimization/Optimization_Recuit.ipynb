{
 "cells": [
  {
   "attachments": {},
   "cell_type": "markdown",
   "metadata": {},
   "source": [
    "<h1> Optimization electricity consumption </h1>"
   ]
  },
  {
   "attachments": {},
   "cell_type": "markdown",
   "metadata": {},
   "source": [
    "<h3> Imports </h3>"
   ]
  },
  {
   "cell_type": "code",
   "execution_count": 47,
   "metadata": {},
   "outputs": [],
   "source": [
    "import math\n",
    "import random\n",
    "import copy\n",
    "import numpy as np\n",
    "import joblib\n",
    "\n",
    "%run preprocess_functions.py\n",
    "from Individual import Individual"
   ]
  },
  {
   "attachments": {},
   "cell_type": "markdown",
   "metadata": {},
   "source": [
    "<h3> Helper functions </h3>"
   ]
  },
  {
   "cell_type": "code",
   "execution_count": 48,
   "metadata": {},
   "outputs": [],
   "source": [
    "def calc_consumption_from_planing(plan,mat,day_consumption):\n",
    "    for house in plan:\n",
    "        for machine in house.keys():\n",
    "            for time_slot in house[machine]:\n",
    "                day_consumption[time_slot] += mat[machine][\"power\"]\n",
    "    return day_consumption"
   ]
  },
  {
   "attachments": {},
   "cell_type": "markdown",
   "metadata": {},
   "source": [
    "<h3> Recuit functions </h3>"
   ]
  },
  {
   "cell_type": "code",
   "execution_count": 49,
   "metadata": {},
   "outputs": [],
   "source": [
    "#Not Perfect\n",
    "def initial_solution(empty_plannings,mat):\n",
    "\n",
    "    for house in range(len(empty_plannings)):\n",
    "        for machine in empty_plannings[house].keys():\n",
    "            if type(mat[machine][\"nb_time_slot\"]) == list:\n",
    "                mat[machine][\"nb_time_slot\"] = random.sample(mat[machine][\"nb_time_slot\"],1)[0]\n",
    "            \n",
    "            if machine in ['LL','SL','LV']:\n",
    "                start_index = random.randint(0,47)\n",
    "                for i in range(mat[machine][\"nb_time_slot\"]):\n",
    "                    empty_plannings[house][machine].append((start_index+i)%48)\n",
    "            else:\n",
    "                if mat[machine][\"is_sequencable\"]:\n",
    "                    for i in range(mat[machine][\"nb_time_slot\"]):\n",
    "                        index = random.randint(0,15)\n",
    "                        while index in empty_plannings[house][machine]:\n",
    "                            index = random.randint(0,15)\n",
    "                else:\n",
    "                    start_index = random.randint(0,15-mat[machine][\"nb_time_slot\"])\n",
    "                    for i in range(mat[machine][\"nb_time_slot\"]):\n",
    "                        empty_plannings[house][machine].append(start_index+i)\n",
    "                \n",
    "\n",
    "    day_consumption = []\n",
    "    for i in range(48):\n",
    "        day_consumption.append(0)\n",
    "\n",
    "    day_consumption = calc_consumption_from_planing(empty_plannings,mat,day_consumption)\n",
    "\n",
    "    individual = Individual({\"start\":0,\"end\":15},empty_plannings,day_consumption)\n",
    "    \n",
    "\n",
    "    return individual"
   ]
  },
  {
   "cell_type": "code",
   "execution_count": 50,
   "metadata": {},
   "outputs": [],
   "source": [
    "def get_neighbour_solution(solution: Individual):\n",
    "    solution_neigh = copy.deepcopy(solution)\n",
    "    solution_neigh.mutate()\n",
    "\n",
    "    return solution_neigh\n",
    "\n",
    "def cost_function(solution : Individual):\n",
    "    return solution.getMax()\n",
    "\n",
    "def metropolis(neighbour_solution, current_solution,temperature):\n",
    "    return math.exp( -( abs( cost_function(current_solution) - cost_function(neighbour_solution) ) / temperature ) )\n",
    "\n",
    "def update_temperature(temperature):\n",
    "    return temperature * 0.99"
   ]
  },
  {
   "cell_type": "code",
   "execution_count": 51,
   "metadata": {},
   "outputs": [],
   "source": [
    "def recuit_simule(temperature,current_solution):\n",
    "    best_current_solution = copy.deepcopy(current_solution)\n",
    "    print_count = 0\n",
    "    count_iteration_without_improvment = 0\n",
    "\n",
    "    while count_iteration_without_improvment < 1000:\n",
    "        print_count += 1\n",
    "        if print_count%10 == 0:\n",
    "            print(\"\\r\",end=\"\")\n",
    "            print(\"**Recuit\",print_count,count_iteration_without_improvment,end=\"                \")\n",
    "\n",
    "        neighbour_solution = get_neighbour_solution(current_solution)\n",
    "\n",
    "        if cost_function(neighbour_solution) < cost_function(current_solution) or random.random() < metropolis( neighbour_solution , current_solution , temperature):\n",
    "            current_solution = neighbour_solution\n",
    "\n",
    "        if cost_function(current_solution) < cost_function(best_current_solution):\n",
    "            best_current_solution = copy.deepcopy(current_solution)\n",
    "            count_iteration_without_improvment = 0\n",
    "        else:\n",
    "            count_iteration_without_improvment += 1\n",
    "\n",
    "        temperature = update_temperature(temperature)\n",
    "    \n",
    "    return best_current_solution"
   ]
  },
  {
   "attachments": {},
   "cell_type": "markdown",
   "metadata": {},
   "source": [
    "<h3> Variables </h3>"
   ]
  },
  {
   "cell_type": "code",
   "execution_count": 52,
   "metadata": {},
   "outputs": [],
   "source": [
    "matrice_type_puissance_par_demie_heure = {'LV':{\"power\":float(0.65),\"nb_time_slot\":2,\"is_sequencable\":False}, \n",
    "                                            'LL':{\"power\":float(1),\"nb_time_slot\":2,\"is_sequencable\":False}, \n",
    "                                            'SL':{\"power\":float(0.125),\"nb_time_slot\":8,\"is_sequencable\":False}, \n",
    "                                            'TV':{\"power\":float(0.05),\"nb_time_slot\":[1,2,3,4,5],\"is_sequencable\":False}, \n",
    "                                            'FG_1':{\"power\":float(0.1),\"nb_time_slot\":4,\"is_sequencable\":False}, \n",
    "                                            'CE_1':{\"power\":float(0.18),\"nb_time_slot\":12,\"is_sequencable\":False}, \n",
    "                                            'CG':{\"power\":float(0.1),\"nb_time_slot\":4,\"is_sequencable\":False}, \n",
    "                                            'FO':{\"power\":float(0.8),\"nb_time_slot\":[1,2],\"is_sequencable\":False}, \n",
    "                                            'PL':{\"power\":float(0.6),\"nb_time_slot\":[1,2],\"is_sequencable\":False}, \n",
    "                                            'FG_2':{\"power\":float(0.3),\"nb_time_slot\":4,\"is_sequencable\":False}, \n",
    "                                            'CE_2':{\"power\":float(0.25),\"nb_time_slot\":12,\"is_sequencable\":False}\n",
    "                                            }"
   ]
  },
  {
   "attachments": {},
   "cell_type": "markdown",
   "metadata": {},
   "source": [
    "<h3> Main </h3>"
   ]
  },
  {
   "cell_type": "code",
   "execution_count": 53,
   "metadata": {},
   "outputs": [],
   "source": [
    "data = load_csv(\"data/data.csv\")\n",
    "batch_empty_plannings = make_batches(\"data/data.csv\",\"data/data_network.csv\")"
   ]
  },
  {
   "cell_type": "code",
   "execution_count": 55,
   "metadata": {},
   "outputs": [
    {
     "name": "stdout",
     "output_type": "stream",
     "text": [
      "Init Solution\n",
      "Score init 215.53500000000145 | Batch size 201\n",
      "**Recuit 680 350                "
     ]
    },
    {
     "ename": "KeyboardInterrupt",
     "evalue": "",
     "output_type": "error",
     "traceback": [
      "\u001b[0;31m---------------------------------------------------------------------------\u001b[0m",
      "\u001b[0;31mKeyboardInterrupt\u001b[0m                         Traceback (most recent call last)",
      "Cell \u001b[0;32mIn [55], line 9\u001b[0m\n\u001b[1;32m      6\u001b[0m current_solution \u001b[39m=\u001b[39m initial_solution(batch,matrice_type_puissance_par_demie_heure)\n\u001b[1;32m      7\u001b[0m \u001b[39mprint\u001b[39m(\u001b[39m\"\u001b[39m\u001b[39mScore init\u001b[39m\u001b[39m\"\u001b[39m,current_solution\u001b[39m.\u001b[39mgetMax(),\u001b[39m\"\u001b[39m\u001b[39m| Batch size\u001b[39m\u001b[39m\"\u001b[39m,\u001b[39mlen\u001b[39m(batch))\n\u001b[0;32m----> 9\u001b[0m best_found_solution \u001b[39m=\u001b[39m recuit_simule(\u001b[39m1000\u001b[39m, current_solution)\n\u001b[1;32m     10\u001b[0m curr_best \u001b[39m=\u001b[39m cost_function(best_found_solution)\n\u001b[1;32m     12\u001b[0m n\u001b[39m=\u001b[39m\u001b[39m0\u001b[39m\n",
      "Cell \u001b[0;32mIn [51], line 12\u001b[0m, in \u001b[0;36mrecuit_simule\u001b[0;34m(temperature, current_solution)\u001b[0m\n\u001b[1;32m      9\u001b[0m     \u001b[39mprint\u001b[39m(\u001b[39m\"\u001b[39m\u001b[39m\\r\u001b[39;00m\u001b[39m\"\u001b[39m,end\u001b[39m=\u001b[39m\u001b[39m\"\u001b[39m\u001b[39m\"\u001b[39m)\n\u001b[1;32m     10\u001b[0m     \u001b[39mprint\u001b[39m(\u001b[39m\"\u001b[39m\u001b[39m**Recuit\u001b[39m\u001b[39m\"\u001b[39m,print_count,count_iteration_without_improvment,end\u001b[39m=\u001b[39m\u001b[39m\"\u001b[39m\u001b[39m                \u001b[39m\u001b[39m\"\u001b[39m)\n\u001b[0;32m---> 12\u001b[0m neighbour_solution \u001b[39m=\u001b[39m get_neighbour_solution(current_solution)\n\u001b[1;32m     14\u001b[0m \u001b[39mif\u001b[39;00m cost_function(neighbour_solution) \u001b[39m<\u001b[39m cost_function(current_solution) \u001b[39mor\u001b[39;00m random\u001b[39m.\u001b[39mrandom() \u001b[39m<\u001b[39m metropolis( neighbour_solution , current_solution , temperature):\n\u001b[1;32m     15\u001b[0m     current_solution \u001b[39m=\u001b[39m neighbour_solution\n",
      "Cell \u001b[0;32mIn [50], line 3\u001b[0m, in \u001b[0;36mget_neighbour_solution\u001b[0;34m(solution)\u001b[0m\n\u001b[1;32m      1\u001b[0m \u001b[39mdef\u001b[39;00m \u001b[39mget_neighbour_solution\u001b[39m(solution: Individual):\n\u001b[1;32m      2\u001b[0m     solution_neigh \u001b[39m=\u001b[39m copy\u001b[39m.\u001b[39mdeepcopy(solution)\n\u001b[0;32m----> 3\u001b[0m     solution_neigh\u001b[39m.\u001b[39;49mmutate()\n\u001b[1;32m      5\u001b[0m     \u001b[39mreturn\u001b[39;00m solution_neigh\n",
      "File \u001b[0;32m~/Documents/S5/12_UseCase_SPIE/Use_Case_SPIE/Optimization/Individual.py:63\u001b[0m, in \u001b[0;36mIndividual.mutate\u001b[0;34m(self)\u001b[0m\n\u001b[1;32m     60\u001b[0m machine_type \u001b[39m=\u001b[39m random\u001b[39m.\u001b[39mchoice(\u001b[39mlist\u001b[39m(planning_index\u001b[39m.\u001b[39mkeys()))\n\u001b[1;32m     62\u001b[0m \u001b[39mif\u001b[39;00m machine_type \u001b[39min\u001b[39;00m [\u001b[39m'\u001b[39m\u001b[39mCG\u001b[39m\u001b[39m'\u001b[39m,\u001b[39m'\u001b[39m\u001b[39mFG_1\u001b[39m\u001b[39m'\u001b[39m,\u001b[39m'\u001b[39m\u001b[39mFG_2\u001b[39m\u001b[39m'\u001b[39m,\u001b[39m'\u001b[39m\u001b[39mCE_1\u001b[39m\u001b[39m'\u001b[39m,\u001b[39m'\u001b[39m\u001b[39mCE_2\u001b[39m\u001b[39m'\u001b[39m]:\n\u001b[0;32m---> 63\u001b[0m     (old_index,new_index) \u001b[39m=\u001b[39m \u001b[39mself\u001b[39;49m\u001b[39m.\u001b[39;49mmutate_seq(\u001b[39mself\u001b[39;49m\u001b[39m.\u001b[39;49mHC, machine_type, house_index)\n\u001b[1;32m     64\u001b[0m \u001b[39melse\u001b[39;00m:\n\u001b[1;32m     65\u001b[0m     \u001b[39mif\u001b[39;00m machine_type \u001b[39min\u001b[39;00m [\u001b[39m\"\u001b[39m\u001b[39mLV\u001b[39m\u001b[39m\"\u001b[39m,\u001b[39m\"\u001b[39m\u001b[39mLL\u001b[39m\u001b[39m\"\u001b[39m,\u001b[39m\"\u001b[39m\u001b[39mSL\u001b[39m\u001b[39m\"\u001b[39m]:\n",
      "File \u001b[0;32m~/Documents/S5/12_UseCase_SPIE/Use_Case_SPIE/Optimization/Individual.py:43\u001b[0m, in \u001b[0;36mIndividual.mutate_seq\u001b[0;34m(self, limits, machine_type, house_index)\u001b[0m\n\u001b[1;32m     41\u001b[0m \u001b[39mwhile\u001b[39;00m halfhour_index \u001b[39min\u001b[39;00m machine_planning:\n\u001b[1;32m     42\u001b[0m     halfhour_index \u001b[39m+\u001b[39m\u001b[39m=\u001b[39m direction\n\u001b[0;32m---> 43\u001b[0m     \u001b[39mif\u001b[39;00m halfhour_index \u001b[39m>\u001b[39m limits[\u001b[39m\"\u001b[39;49m\u001b[39mend\u001b[39;49m\u001b[39m\"\u001b[39;49m]:\n\u001b[1;32m     44\u001b[0m         halfhour_index \u001b[39m=\u001b[39m limits[\u001b[39m\"\u001b[39m\u001b[39mstart\u001b[39m\u001b[39m\"\u001b[39m]\n\u001b[1;32m     45\u001b[0m     \u001b[39melif\u001b[39;00m halfhour_index \u001b[39m<\u001b[39m limits[\u001b[39m\"\u001b[39m\u001b[39mstart\u001b[39m\u001b[39m\"\u001b[39m]:\n",
      "\u001b[0;31mKeyboardInterrupt\u001b[0m: "
     ]
    }
   ],
   "source": [
    "solutions = []\n",
    "for key in batch_empty_plannings.keys():\n",
    "    batch = batch_empty_plannings[key]\n",
    "\n",
    "    print(\"Init Solution\")\n",
    "    current_solution = initial_solution(batch,matrice_type_puissance_par_demie_heure)\n",
    "    print(\"Score init\",current_solution.getMax(),\"| Batch size\",len(batch))\n",
    "\n",
    "    best_found_solution = recuit_simule(1000, current_solution)\n",
    "    curr_best = cost_function(best_found_solution)\n",
    "\n",
    "    n=0\n",
    "    while  n < 3:\n",
    "        if cost_function(best_found_solution) < curr_best:\n",
    "            curr_best = cost_function(best_found_solution)\n",
    "            print(best_found_solution.day_consumption)\n",
    "            print(cost_function(best_found_solution))\n",
    "        \n",
    "\n",
    "        if n%1 == 0:\n",
    "            print(\"iter n° :\",n)\n",
    "        \n",
    "        n+=1\n",
    "        best_found_solution = recuit_simule(1000,best_found_solution)\n",
    "\n",
    "    # print(best_found_solution.day_consumption)\n",
    "    print(\"Score optimized\",cost_function(best_found_solution))\n",
    "    solutions.append(best_found_solution)\n",
    "\n",
    "\n"
   ]
  },
  {
   "cell_type": "code",
   "execution_count": null,
   "metadata": {},
   "outputs": [
    {
     "data": {
      "text/plain": [
       "['out/Solution.joblib']"
      ]
     },
     "execution_count": 46,
     "metadata": {},
     "output_type": "execute_result"
    }
   ],
   "source": [
    "# joblib.dump(best_found_solution.plannings,\"out/Plannings.joblib\")\n",
    "# joblib.dump(best_found_solution.day_consumption,\"out/Day_Consumption.joblib\")\n",
    "# joblib.dump(best_found_solution,\"out/Solution.joblib\")\n",
    "joblib.dump(solutions,\"out/Solutions.joblib\")"
   ]
  }
 ],
 "metadata": {
  "kernelspec": {
   "display_name": "Python 3",
   "language": "python",
   "name": "python3"
  },
  "language_info": {
   "codemirror_mode": {
    "name": "ipython",
    "version": 3
   },
   "file_extension": ".py",
   "mimetype": "text/x-python",
   "name": "python",
   "nbconvert_exporter": "python",
   "pygments_lexer": "ipython3",
   "version": "3.8.10"
  },
  "orig_nbformat": 4,
  "vscode": {
   "interpreter": {
    "hash": "31f2aee4e71d21fbe5cf8b01ff0e069b9275f58929596ceb00d14d90e3e16cd6"
   }
  }
 },
 "nbformat": 4,
 "nbformat_minor": 2
}
